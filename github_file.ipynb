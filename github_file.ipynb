{
 "cells": [
  {
   "cell_type": "code",
   "execution_count": 4,
   "metadata": {
    "ExecuteTime": {
     "end_time": "2020-10-11T03:54:24.961493Z",
     "start_time": "2020-10-11T03:54:22.415260Z"
    }
   },
   "outputs": [],
   "source": [
    "import librosa as lr\n",
    "import numpy as np\n",
    "import matplotlib.pyplot as plt \n",
    "from glob import glob\n",
    "import pandas as pd\n",
    "import pyaudio\n",
    "import sklearn\n",
    "import librosa.display \n",
    "from praatio import tgio\n",
    "import scipy # sub band energy ratio \n",
    "import matplotlib.pyplot as plt \n",
    "from scipy.signal import find_peaks"
   ]
  },
  {
   "cell_type": "markdown",
   "metadata": {},
   "source": [
    "# Getting video and converting to audio "
   ]
  },
  {
   "cell_type": "markdown",
   "metadata": {},
   "source": [
    "run the following command in shell \n",
    "\n",
    "youtube-dl --extract-audio --audio-format mp3 https://www.youtube.com/watch?v=btBZvsPCMQ0`"
   ]
  },
  {
   "cell_type": "markdown",
   "metadata": {},
   "source": [
    "# Processing audio file "
   ]
  },
  {
   "cell_type": "code",
   "execution_count": 5,
   "metadata": {
    "ExecuteTime": {
     "end_time": "2020-10-11T03:54:24.966560Z",
     "start_time": "2020-10-11T03:54:24.963617Z"
    }
   },
   "outputs": [],
   "source": [
    "path = **download clip1 from the repo and enter the reqd address**\n"
   ]
  },
  {
   "cell_type": "markdown",
   "metadata": {},
   "source": [
    "# labelled data"
   ]
  },
  {
   "cell_type": "code",
   "execution_count": 6,
   "metadata": {
    "ExecuteTime": {
     "end_time": "2020-10-11T03:54:25.185587Z",
     "start_time": "2020-10-11T03:54:24.968411Z"
    }
   },
   "outputs": [],
   "source": [
    "# the audio file was labelled using Praat\n",
    "tg = tgio.openTextgrid(\"./final_annotation.TextGrid\")\n",
    "entryList = tg.tierDict[\"clip1_annotate\"].entryList\n",
    "\n",
    "annotated_df = pd.DataFrame(entryList)\n",
    "annotated_df['delta'] = annotated_df['end'] - annotated_df['start'] #the time spent for each segment."
   ]
  },
  {
   "cell_type": "code",
   "execution_count": 7,
   "metadata": {
    "ExecuteTime": {
     "end_time": "2020-10-11T03:54:41.318466Z",
     "start_time": "2020-10-11T03:54:25.805959Z"
    },
    "jupyter": {
     "outputs_hidden": true
    }
   },
   "outputs": [
    {
     "name": "stderr",
     "output_type": "stream",
     "text": [
      "/Users/avinashl/anaconda3/lib/python3.7/site-packages/librosa/core/audio.py:162: UserWarning: PySoundFile failed. Trying audioread instead.\n",
      "  warnings.warn(\"PySoundFile failed. Trying audioread instead.\")\n"
     ]
    }
   ],
   "source": [
    "y, sr = lr.load(path, sr=None)"
   ]
  },
  {
   "cell_type": "markdown",
   "metadata": {},
   "source": [
    "# Group wise audio features  : mean ,variance , avg zero crossings , avg peaks"
   ]
  },
  {
   "cell_type": "code",
   "execution_count": 8,
   "metadata": {
    "ExecuteTime": {
     "end_time": "2020-10-11T03:54:41.326291Z",
     "start_time": "2020-10-11T03:54:41.320939Z"
    }
   },
   "outputs": [],
   "source": [
    "# Extract 2 sec audio segments from the main audio file\n",
    "\n",
    "def extract_category(y,segments):\n",
    "    audio_cat = []\n",
    "    # compute segment regions in number of samples\n",
    "    starts = np.floor(segments.start*44100).astype('int')\n",
    "    ends = np.ceil(segments.end*44100).astype('int')\n",
    "\n",
    "    # slice the audio into segments\n",
    "    for i ,start, end in zip(range(len(annotated_df)),starts, ends):\n",
    "        audio_seg = y[start:end]\n",
    "        audio_cat.append(audio_seg)\n",
    "        print('extracting audio segment:', len(audio_seg), 'samples')\n",
    "    return audio_cat    "
   ]
  },
  {
   "cell_type": "code",
   "execution_count": 9,
   "metadata": {
    "ExecuteTime": {
     "end_time": "2020-10-11T03:54:41.800730Z",
     "start_time": "2020-10-11T03:54:41.329099Z"
    }
   },
   "outputs": [
    {
     "name": "stdout",
     "output_type": "stream",
     "text": [
      "extracting audio segment: 5763209 samples\n",
      "extracting audio segment: 2890435 samples\n",
      "extracting audio segment: 690087 samples\n",
      "extracting audio segment: 2861830 samples\n",
      "extracting audio segment: 196047 samples\n",
      "extracting audio segment: 200758 samples\n",
      "extracting audio segment: 199630 samples\n",
      "extracting audio segment: 1295103 samples\n",
      "extracting audio segment: 845660 samples\n",
      "extracting audio segment: 105971 samples\n",
      "extracting audio segment: 713907 samples\n",
      "extracting audio segment: 926018 samples\n",
      "extracting audio segment: 86544 samples\n",
      "extracting audio segment: 40623 samples\n",
      "extracting audio segment: 204878 samples\n",
      "extracting audio segment: 138968 samples\n",
      "extracting audio segment: 367365 samples\n",
      "extracting audio segment: 1886764 samples\n",
      "extracting audio segment: 2318643 samples\n",
      "extracting audio segment: 39892 samples\n",
      "extracting audio segment: 32136 samples\n",
      "extracting audio segment: 34123 samples\n",
      "extracting audio segment: 95653 samples\n",
      "extracting audio segment: 450907 samples\n",
      "extracting audio segment: 33243 samples\n",
      "extracting audio segment: 95297 samples\n",
      "extracting audio segment: 155290 samples\n",
      "extracting audio segment: 243783 samples\n",
      "extracting audio segment: 39893 samples\n",
      "extracting audio segment: 4516904 samples\n",
      "extracting audio segment: 70919 samples\n",
      "extracting audio segment: 36568 samples\n",
      "extracting audio segment: 25487 samples\n",
      "extracting audio segment: 75352 samples\n",
      "extracting audio segment: 328938 samples\n",
      "extracting audio segment: 482023 samples\n",
      "extracting audio segment: 272593 samples\n",
      "extracting audio segment: 144053 samples\n",
      "extracting audio segment: 83108 samples\n",
      "extracting audio segment: 95298 samples\n",
      "extracting audio segment: 222728 samples\n",
      "extracting audio segment: 114135 samples\n",
      "extracting audio segment: 587587 samples\n",
      "extracting audio segment: 226053 samples\n",
      "extracting audio segment: 341295 samples\n",
      "extracting audio segment: 1533538 samples\n",
      "extracting audio segment: 130757 samples\n",
      "extracting audio segment: 154182 samples\n",
      "extracting audio segment: 537784 samples\n",
      "extracting audio segment: 39892 samples\n",
      "extracting audio segment: 2935424 samples\n",
      "extracting audio segment: 1008112 samples\n",
      "extracting audio segment: 94144 samples\n",
      "extracting audio segment: 1287970 samples\n",
      "extracting audio segment: 290634 samples\n",
      "extracting audio segment: 502665 samples\n",
      "extracting audio segment: 184412 samples\n",
      "extracting audio segment: 357372 samples\n",
      "extracting audio segment: 101185 samples\n",
      "extracting audio segment: 289558 samples\n",
      "extracting audio segment: 443245 samples\n",
      "extracting audio segment: 159128 samples\n",
      "extracting audio segment: 353433 samples\n",
      "extracting audio segment: 1270781 samples\n",
      "extracting audio segment: 1447429 samples\n",
      "extracting audio segment: 321781 samples\n",
      "extracting audio segment: 97955 samples\n",
      "extracting audio segment: 342302 samples\n",
      "extracting audio segment: 166846 samples\n",
      "extracting audio segment: 739488 samples\n",
      "extracting audio segment: 579985 samples\n",
      "extracting audio segment: 1622438 samples\n",
      "extracting audio segment: 100749 samples\n",
      "extracting audio segment: 89962 samples\n",
      "extracting audio segment: 3537936 samples\n",
      "extracting audio segment: 1898528 samples\n",
      "extracting audio segment: 520002 samples\n",
      "extracting audio segment: 122117 samples\n",
      "extracting audio segment: 181915 samples\n",
      "extracting audio segment: 237889 samples\n",
      "extracting audio segment: 74274 samples\n",
      "extracting audio segment: 656822 samples\n",
      "extracting audio segment: 724430 samples\n",
      "extracting audio segment: 3007445 samples\n",
      "extracting audio segment: 1361166 samples\n",
      "extracting audio segment: 130248 samples\n",
      "extracting audio segment: 657590 samples\n",
      "extracting audio segment: 170075 samples\n",
      "extracting audio segment: 520609 samples\n",
      "extracting audio segment: 108593 samples\n",
      "extracting audio segment: 3955667 samples\n",
      "extracting audio segment: 68892 samples\n",
      "extracting audio segment: 554940 samples\n",
      "extracting audio segment: 401505 samples\n",
      "extracting audio segment: 284176 samples\n",
      "extracting audio segment: 388290 samples\n",
      "extracting audio segment: 331538 samples\n",
      "extracting audio segment: 277533 samples\n",
      "extracting audio segment: 226278 samples\n",
      "extracting audio segment: 2490512 samples\n",
      "extracting audio segment: 127019 samples\n",
      "extracting audio segment: 1104200 samples\n",
      "extracting audio segment: 804589 samples\n",
      "extracting audio segment: 4344505 samples\n",
      "extracting audio segment: 158601 samples\n",
      "extracting audio segment: 379519 samples\n",
      "extracting audio segment: 129171 samples\n",
      "extracting audio segment: 255112 samples\n",
      "extracting audio segment: 193630 samples\n",
      "extracting audio segment: 526369 samples\n",
      "extracting audio segment: 618942 samples\n",
      "extracting audio segment: 224972 samples\n",
      "extracting audio segment: 292191 samples\n",
      "extracting audio segment: 719724 samples\n",
      "extracting audio segment: 189451 samples\n",
      "extracting audio segment: 135584 samples\n",
      "extracting audio segment: 369212 samples\n",
      "extracting audio segment: 2291226 samples\n",
      "extracting audio segment: 768185 samples\n",
      "extracting audio segment: 230355 samples\n",
      "extracting audio segment: 505986 samples\n",
      "extracting audio segment: 293187 samples\n",
      "extracting audio segment: 1285061 samples\n",
      "extracting audio segment: 390867 samples\n",
      "extracting audio segment: 649894 samples\n",
      "extracting audio segment: 1165762 samples\n",
      "extracting audio segment: 205597 samples\n",
      "extracting audio segment: 545539 samples\n",
      "extracting audio segment: 906139 samples\n",
      "extracting audio segment: 106566 samples\n",
      "extracting audio segment: 134553 samples\n",
      "extracting audio segment: 124865 samples\n",
      "extracting audio segment: 86596 samples\n",
      "extracting audio segment: 127282 samples\n",
      "extracting audio segment: 83962 samples\n",
      "extracting audio segment: 300251 samples\n",
      "extracting audio segment: 206721 samples\n",
      "extracting audio segment: 499829 samples\n",
      "extracting audio segment: 203112 samples\n",
      "extracting audio segment: 183684 samples\n",
      "extracting audio segment: 380002 samples\n",
      "extracting audio segment: 187216 samples\n",
      "extracting audio segment: 95720 samples\n",
      "extracting audio segment: 172330 samples\n",
      "extracting audio segment: 574008 samples\n",
      "extracting audio segment: 137762 samples\n",
      "extracting audio segment: 116028 samples\n",
      "extracting audio segment: 254701 samples\n",
      "extracting audio segment: 185449 samples\n",
      "extracting audio segment: 49454 samples\n",
      "extracting audio segment: 843819 samples\n",
      "extracting audio segment: 116400 samples\n",
      "extracting audio segment: 53190 samples\n",
      "extracting audio segment: 631616 samples\n",
      "extracting audio segment: 137405 samples\n",
      "extracting audio segment: 289894 samples\n",
      "extracting audio segment: 319828 samples\n",
      "extracting audio segment: 207215 samples\n",
      "extracting audio segment: 146270 samples\n",
      "extracting audio segment: 613212 samples\n",
      "extracting audio segment: 820459 samples\n",
      "extracting audio segment: 408308 samples\n",
      "extracting audio segment: 70690 samples\n",
      "extracting audio segment: 177296 samples\n",
      "extracting audio segment: 99729 samples\n",
      "extracting audio segment: 94161 samples\n",
      "extracting audio segment: 662414 samples\n",
      "extracting audio segment: 1454323 samples\n",
      "extracting audio segment: 370077 samples\n",
      "extracting audio segment: 23271 samples\n",
      "extracting audio segment: 223088 samples\n",
      "extracting audio segment: 245304 samples\n",
      "extracting audio segment: 56040 samples\n",
      "extracting audio segment: 54899 samples\n",
      "extracting audio segment: 106595 samples\n",
      "extracting audio segment: 279073 samples\n",
      "extracting audio segment: 34524 samples\n",
      "extracting audio segment: 306944 samples\n",
      "extracting audio segment: 858212 samples\n",
      "extracting audio segment: 28382 samples\n",
      "extracting audio segment: 1544619 samples\n",
      "extracting audio segment: 944181 samples\n",
      "extracting audio segment: 220512 samples\n",
      "extracting audio segment: 198428 samples\n",
      "extracting audio segment: 260943 samples\n",
      "extracting audio segment: 454321 samples\n",
      "extracting audio segment: 92006 samples\n",
      "extracting audio segment: 55406 samples\n",
      "extracting audio segment: 904474 samples\n",
      "extracting audio segment: 237134 samples\n",
      "extracting audio segment: 47649 samples\n",
      "extracting audio segment: 84294 samples\n",
      "extracting audio segment: 619476 samples\n",
      "extracting audio segment: 136706 samples\n",
      "extracting audio segment: 443485 samples\n",
      "extracting audio segment: 1146077 samples\n",
      "extracting audio segment: 103337 samples\n",
      "extracting audio segment: 509262 samples\n",
      "extracting audio segment: 106566 samples\n",
      "extracting audio segment: 59845 samples\n",
      "extracting audio segment: 568110 samples\n",
      "extracting audio segment: 26911 samples\n",
      "extracting audio segment: 1700169 samples\n",
      "extracting audio segment: 1837928 samples\n",
      "extracting audio segment: 769640 samples\n",
      "extracting audio segment: 276640 samples\n",
      "extracting audio segment: 2447891 samples\n",
      "extracting audio segment: 291710 samples\n",
      "extracting audio segment: 543592 samples\n",
      "extracting audio segment: 203444 samples\n",
      "extracting audio segment: 845826 samples\n",
      "extracting audio segment: 4286253 samples\n",
      "extracting audio segment: 94726 samples\n",
      "extracting audio segment: 2056350 samples\n",
      "extracting audio segment: 208826 samples\n",
      "extracting audio segment: 72121 samples\n",
      "extracting audio segment: 610067 samples\n",
      "extracting audio segment: 181916 samples\n",
      "extracting audio segment: 725507 samples\n",
      "extracting audio segment: 304627 samples\n",
      "extracting audio segment: 213132 samples\n",
      "extracting audio segment: 57590 samples\n",
      "extracting audio segment: 216361 samples\n",
      "extracting audio segment: 59204 samples\n",
      "extracting audio segment: 193756 samples\n",
      "extracting audio segment: 912540 samples\n",
      "extracting audio segment: 261571 samples\n",
      "extracting audio segment: 314315 samples\n",
      "extracting audio segment: 157158 samples\n",
      "extracting audio segment: 93650 samples\n",
      "extracting audio segment: 99593 samples\n",
      "extracting audio segment: 65663 samples\n",
      "extracting audio segment: 516888 samples\n",
      "extracting audio segment: 1204364 samples\n",
      "extracting audio segment: 244967 samples\n",
      "extracting audio segment: 1764170 samples\n",
      "extracting audio segment: 345532 samples\n",
      "extracting audio segment: 189450 samples\n",
      "extracting audio segment: 165769 samples\n",
      "extracting audio segment: 242195 samples\n",
      "extracting audio segment: 116540 samples\n",
      "extracting audio segment: 274488 samples\n",
      "extracting audio segment: 741058 samples\n",
      "extracting audio segment: 83962 samples\n",
      "extracting audio segment: 59627 samples\n",
      "extracting audio segment: 275564 samples\n",
      "extracting audio segment: 308086 samples\n",
      "extracting audio segment: 67769 samples\n",
      "extracting audio segment: 610261 samples\n",
      "extracting audio segment: 831958 samples\n",
      "extracting audio segment: 637241 samples\n",
      "extracting audio segment: 255112 samples\n",
      "extracting audio segment: 205597 samples\n",
      "extracting audio segment: 396959 samples\n",
      "extracting audio segment: 487985 samples\n",
      "extracting audio segment: 830927 samples\n",
      "extracting audio segment: 175526 samples\n",
      "extracting audio segment: 496230 samples\n",
      "extracting audio segment: 61357 samples\n",
      "extracting audio segment: 1413601 samples\n",
      "extracting audio segment: 507475 samples\n",
      "extracting audio segment: 882069 samples\n",
      "extracting audio segment: 258342 samples\n",
      "extracting audio segment: 94188 samples\n",
      "extracting audio segment: 384283 samples\n",
      "extracting audio segment: 468243 samples\n",
      "extracting audio segment: 623396 samples\n",
      "extracting audio segment: 2184249 samples\n",
      "extracting audio segment: 120560 samples\n",
      "extracting audio segment: 188374 samples\n",
      "extracting audio segment: 125942 samples\n",
      "extracting audio segment: 43058 samples\n",
      "extracting audio segment: 115178 samples\n",
      "extracting audio segment: 513636 samples\n",
      "extracting audio segment: 406887 samples\n",
      "extracting audio segment: 997658 samples\n",
      "extracting audio segment: 319697 samples\n",
      "extracting audio segment: 304628 samples\n",
      "extracting audio segment: 348761 samples\n",
      "extracting audio segment: 270182 samples\n",
      "extracting audio segment: 665136 samples\n",
      "extracting audio segment: 251562 samples\n",
      "extracting audio segment: 283099 samples\n",
      "extracting audio segment: 340150 samples\n",
      "extracting audio segment: 174942 samples\n",
      "extracting audio segment: 396294 samples\n",
      "extracting audio segment: 2712014 samples\n",
      "extracting audio segment: 125942 samples\n",
      "extracting audio segment: 671972 samples\n",
      "extracting audio segment: 373519 samples\n",
      "extracting audio segment: 156081 samples\n",
      "extracting audio segment: 308933 samples\n",
      "extracting audio segment: 1330774 samples\n",
      "extracting audio segment: 257265 samples\n",
      "extracting audio segment: 242196 samples\n",
      "extracting audio segment: 476614 samples\n",
      "extracting audio segment: 456357 samples\n",
      "extracting audio segment: 728736 samples\n",
      "extracting audio segment: 847451 samples\n",
      "extracting audio segment: 413345 samples\n"
     ]
    },
    {
     "name": "stdout",
     "output_type": "stream",
     "text": [
      "extracting audio segment: 123045 samples\n",
      "extracting audio segment: 128592 samples\n",
      "extracting audio segment: 105972 samples\n",
      "extracting audio segment: 37091 samples\n",
      "extracting audio segment: 86543 samples\n",
      "extracting audio segment: 56519 samples\n",
      "extracting audio segment: 144827 samples\n",
      "extracting audio segment: 90076 samples\n",
      "extracting audio segment: 49454 samples\n",
      "extracting audio segment: 54752 samples\n",
      "extracting audio segment: 37091 samples\n",
      "extracting audio segment: 51221 samples\n",
      "extracting audio segment: 38785 samples\n",
      "extracting audio segment: 35460 samples\n",
      "extracting audio segment: 54298 samples\n",
      "extracting audio segment: 22703 samples\n",
      "extracting audio segment: 43880 samples\n",
      "extracting audio segment: 23271 samples\n",
      "extracting audio segment: 107487 samples\n",
      "extracting audio segment: 55406 samples\n",
      "extracting audio segment: 31028 samples\n",
      "extracting audio segment: 50973 samples\n",
      "extracting audio segment: 23682 samples\n",
      "extracting audio segment: 60280 samples\n",
      "extracting audio segment: 29065 samples\n",
      "extracting audio segment: 26912 samples\n",
      "extracting audio segment: 29064 samples\n",
      "extracting audio segment: 68891 samples\n",
      "extracting audio segment: 52745 samples\n",
      "extracting audio segment: 82885 samples\n",
      "extracting audio segment: 245425 samples\n",
      "extracting audio segment: 64587 samples\n",
      "extracting audio segment: 77503 samples\n",
      "extracting audio segment: 289557 samples\n",
      "extracting audio segment: 86115 samples\n",
      "extracting audio segment: 107643 samples\n",
      "extracting audio segment: 103338 samples\n",
      "extracting audio segment: 156505 samples\n",
      "extracting audio segment: 31217 samples\n",
      "extracting audio segment: 213475 samples\n",
      "extracting audio segment: 89343 samples\n",
      "extracting audio segment: 128095 samples\n",
      "extracting audio segment: 59204 samples\n",
      "extracting audio segment: 156081 samples\n",
      "extracting audio segment: 566719 samples\n"
     ]
    }
   ],
   "source": [
    "\n",
    "annotated_df.loc[annotated_df['label']=='arnab,introduction','label'] = 'speaker'\n",
    "annotated_df.loc[annotated_df['label']=='mutiple','label'] = 'multiple'\n",
    "list_other = ['noise','silence', 'trash','break', 'end_tune']\n",
    "annotated_df.loc[annotated_df['label'].isin(list_other),'label'] = 'other'\n",
    "\n",
    "speaker_df = annotated_df[annotated_df['label']=='speaker']\n",
    "multiple_df = annotated_df[annotated_df['label']=='multiple']\n",
    "other_df = annotated_df[annotated_df['label']=='other']\n",
    "\n",
    "speaker_audio = np.concatenate(extract_category(y,speaker_df) ,axis =0)\n",
    "multiple_audio = np.concatenate(extract_category(y,multiple_df),axis =0)\n",
    "other_audio = np.concatenate(extract_category(y,other_df),axis =0)"
   ]
  },
  {
   "cell_type": "markdown",
   "metadata": {},
   "source": [
    "## mean over 1 second window "
   ]
  },
  {
   "cell_type": "code",
   "execution_count": 10,
   "metadata": {
    "ExecuteTime": {
     "end_time": "2020-10-11T03:54:41.806776Z",
     "start_time": "2020-10-11T03:54:41.802791Z"
    }
   },
   "outputs": [],
   "source": [
    "LEN = 44100*2\n",
    "\n",
    "def avg(data):\n",
    "    mean_list = []\n",
    "    for i in range((len(data) + LEN - 1) // LEN):\n",
    "        sublist = data[i*LEN:(i+1)*LEN]\n",
    "        mean = sum(sublist) / len(sublist)\n",
    "        mean_list.append(mean)\n",
    "    return mean_list"
   ]
  },
  {
   "cell_type": "code",
   "execution_count": 11,
   "metadata": {
    "ExecuteTime": {
     "end_time": "2020-10-11T03:55:29.454729Z",
     "start_time": "2020-10-11T03:54:41.808877Z"
    }
   },
   "outputs": [],
   "source": [
    "speaker_mean_list = avg(speaker_audio)\n",
    "multiple_mean_list = avg(multiple_audio)\n"
   ]
  },
  {
   "cell_type": "code",
   "execution_count": 12,
   "metadata": {
    "ExecuteTime": {
     "end_time": "2020-10-11T03:55:29.615064Z",
     "start_time": "2020-10-11T03:55:29.456697Z"
    }
   },
   "outputs": [
    {
     "data": {
      "image/png": "[encoded data removed]",
      "text/plain": [
       "<Figure size 432x288 with 1 Axes>"
      ]
     },
     "metadata": {
      "needs_background": "light"
     },
     "output_type": "display_data"
    }
   ],
   "source": [
    "plt.plot(speaker_mean_list, 'r',alpha=0.7) # plotting t, a separately \n",
    "plt.plot(multiple_mean_list, 'b',alpha=0.5) # plotting t, b separately \n",
    "plt.show()"
   ]
  },
  {
   "cell_type": "markdown",
   "metadata": {},
   "source": [
    "## Standard deviation over 1 sec window"
   ]
  },
  {
   "cell_type": "code",
   "execution_count": 13,
   "metadata": {
    "ExecuteTime": {
     "end_time": "2020-10-11T03:55:29.621829Z",
     "start_time": "2020-10-11T03:55:29.617523Z"
    }
   },
   "outputs": [],
   "source": [
    "LEN = 44100*2\n",
    "\n",
    "def stdev(data):\n",
    "    std_list = []\n",
    "    for i in range((len(data) + LEN - 1) // LEN):\n",
    "        sublist = data[i*LEN:(i+1)*LEN]\n",
    "        std = np.std(sublist)**2\n",
    "        std_list.append(std)\n",
    "    return std_list"
   ]
  },
  {
   "cell_type": "code",
   "execution_count": 14,
   "metadata": {
    "ExecuteTime": {
     "end_time": "2020-10-11T03:55:29.939648Z",
     "start_time": "2020-10-11T03:55:29.624640Z"
    }
   },
   "outputs": [],
   "source": [
    "speaker_std_list = stdev(speaker_audio)\n",
    "multiple_std_list = stdev(multiple_audio)\n"
   ]
  },
  {
   "cell_type": "code",
   "execution_count": 15,
   "metadata": {
    "ExecuteTime": {
     "end_time": "2020-10-11T03:55:30.089830Z",
     "start_time": "2020-10-11T03:55:29.941760Z"
    }
   },
   "outputs": [
    {
     "data": {
      "image/png": "[encoded data removed]",
      "text/plain": [
       "<Figure size 432x288 with 1 Axes>"
      ]
     },
     "metadata": {
      "needs_background": "light"
     },
     "output_type": "display_data"
    }
   ],
   "source": [
    "plt.plot(speaker_std_list, 'r',alpha=0.7) # plotting t, a separately \n",
    "plt.plot(multiple_std_list, 'b',alpha=0.5) # plotting t, b separately \n",
    "plt.show()"
   ]
  },
  {
   "cell_type": "markdown",
   "metadata": {},
   "source": [
    "## number of peaks"
   ]
  },
  {
   "cell_type": "code",
   "execution_count": 16,
   "metadata": {
    "ExecuteTime": {
     "end_time": "2020-10-11T03:55:30.097624Z",
     "start_time": "2020-10-11T03:55:30.091541Z"
    }
   },
   "outputs": [],
   "source": [
    "LEN = 88200\n",
    "\n",
    "def peak_find(data):\n",
    "\n",
    "    count_arr = []\n",
    "    mean_arr = []\n",
    "    std_arr = []\n",
    "        \n",
    "    for i in range((len(data) + LEN - 1) // LEN):\n",
    "        sublist = data[i*LEN:(i+1)*LEN]\n",
    "        # calculating using all different peaks finding params\n",
    "        prominence_temp = find_peaks(sublist, prominence=0.01)\n",
    "        count_arr.append(len(prominence_temp[0]))\n",
    "        mean_arr.append(prominence_temp[1]['prominences'].mean())\n",
    "        std_arr.append(np.std(prominence_temp[1]['prominences']))\n",
    "        \n",
    "    return count_arr , mean_arr, std_arr"
   ]
  },
  {
   "cell_type": "markdown",
   "metadata": {},
   "source": [
    "### Density of peaks "
   ]
  },
  {
   "cell_type": "code",
   "execution_count": 17,
   "metadata": {
    "ExecuteTime": {
     "end_time": "2020-10-11T03:55:35.485787Z",
     "start_time": "2020-10-11T03:55:30.100173Z"
    }
   },
   "outputs": [],
   "source": [
    "speaker_peak_count, speaker_peak_mean , speaker_peak_std = peak_find(speaker_audio)\n",
    "multiple_peak_count, multiple_peak_mean , multiple_peak_std = peak_find(multiple_audio)\n"
   ]
  },
  {
   "cell_type": "markdown",
   "metadata": {},
   "source": [
    "## Sub band energy ratio "
   ]
  },
  {
   "cell_type": "code",
   "execution_count": 18,
   "metadata": {
    "ExecuteTime": {
     "end_time": "2020-10-11T03:55:35.492851Z",
     "start_time": "2020-10-11T03:55:35.487482Z"
    }
   },
   "outputs": [],
   "source": [
    "LEN = 88200\n",
    "def bandpower(x, fs, fmin, fmax):\n",
    "    f, Pxx = scipy.signal.periodogram(x, fs=fs)\n",
    "    ind_min = scipy.argmax(f > fmin) - 1\n",
    "    ind_max = scipy.argmax(f > fmax) - 1\n",
    "    return scipy.trapz(Pxx[ind_min: ind_max], f[ind_min: ind_max]) \n",
    "\n",
    "def sub_band_energy(data):\n",
    "    energy_list = []\n",
    "    \n",
    "    for i in range((len(data) + LEN - 1) // LEN):\n",
    "        sublist = data[i*LEN:(i+1)*LEN]\n",
    "        energy = bandpower(sublist, LEN , 20,20000)\n",
    "        energy_list.append(energy)\n",
    "        \n",
    "    return energy_list"
   ]
  },
  {
   "cell_type": "code",
   "execution_count": 19,
   "metadata": {
    "ExecuteTime": {
     "end_time": "2020-10-11T03:55:40.207830Z",
     "start_time": "2020-10-11T03:55:35.495174Z"
    }
   },
   "outputs": [
    {
     "name": "stderr",
     "output_type": "stream",
     "text": [
      "/Users/avinashl/anaconda3/lib/python3.7/site-packages/ipykernel_launcher.py:4: DeprecationWarning: scipy.argmax is deprecated and will be removed in SciPy 2.0.0, use numpy.argmax instead\n",
      "  after removing the cwd from sys.path.\n",
      "/Users/avinashl/anaconda3/lib/python3.7/site-packages/ipykernel_launcher.py:5: DeprecationWarning: scipy.argmax is deprecated and will be removed in SciPy 2.0.0, use numpy.argmax instead\n",
      "  \"\"\"\n",
      "/Users/avinashl/anaconda3/lib/python3.7/site-packages/ipykernel_launcher.py:6: DeprecationWarning: scipy.trapz is deprecated and will be removed in SciPy 2.0.0, use numpy.trapz instead\n",
      "  \n"
     ]
    },
    {
     "data": {
      "image/png": "[encoded data removed]",
      "text/plain": [
       "<Figure size 432x288 with 1 Axes>"
      ]
     },
     "metadata": {
      "needs_background": "light"
     },
     "output_type": "display_data"
    }
   ],
   "source": [
    "\n",
    "speaker_sub_band = sub_band_energy(speaker_audio)\n",
    "multiple_sub_band = sub_band_energy(multiple_audio)\n",
    "\n",
    "\n",
    "plt.plot(speaker_sub_band, 'r', alpha =0.7) # plotting t, a separately \n",
    "plt.plot(multiple_sub_band, 'b', alpha =0.5) # plotting t, b separately \n",
    "plt.show()\n"
   ]
  },
  {
   "cell_type": "markdown",
   "metadata": {},
   "source": [
    "# Data Frames "
   ]
  },
  {
   "cell_type": "code",
   "execution_count": 20,
   "metadata": {
    "ExecuteTime": {
     "end_time": "2020-10-11T03:55:40.223633Z",
     "start_time": "2020-10-11T03:55:40.209612Z"
    }
   },
   "outputs": [],
   "source": [
    "speaker_final_df = pd.DataFrame(speaker_mean_list , columns =['mean'])\n",
    "multiple_final_df = pd.DataFrame(multiple_mean_list , columns =['mean'])\n",
    "\n",
    "speaker_final_df['std'] = speaker_std_list\n",
    "speaker_final_df['peak_density']=speaker_peak_count\n",
    "speaker_final_df['peak_prominence_mean']=speaker_peak_mean\n",
    "speaker_final_df['peak_prominence_std']=speaker_peak_std\n",
    "speaker_final_df['sub_band_energy']=speaker_sub_band\n",
    "speaker_final_df['category'] ='single'\n",
    "\n",
    "\n",
    "multiple_final_df['std'] = multiple_std_list\n",
    "multiple_final_df['peak_density']=multiple_peak_count\n",
    "multiple_final_df['peak_prominence_mean']=multiple_peak_mean\n",
    "multiple_final_df['peak_prominence_std']=multiple_peak_std\n",
    "multiple_final_df['sub_band_energy']=multiple_sub_band\n",
    "multiple_final_df['category'] ='multiple'\n",
    "\n",
    "\n",
    "\n",
    "\n",
    "\n",
    "\n"
   ]
  },
  {
   "cell_type": "code",
   "execution_count": 21,
   "metadata": {
    "ExecuteTime": {
     "end_time": "2020-10-11T03:55:40.230917Z",
     "start_time": "2020-10-11T03:55:40.225203Z"
    }
   },
   "outputs": [],
   "source": [
    "audio_df_final = speaker_final_df.append(multiple_final_df)"
   ]
  },
  {
   "cell_type": "markdown",
   "metadata": {},
   "source": [
    "# Models"
   ]
  },
  {
   "cell_type": "markdown",
   "metadata": {},
   "source": [
    "## SGD"
   ]
  },
  {
   "cell_type": "code",
   "execution_count": 23,
   "metadata": {
    "ExecuteTime": {
     "end_time": "2020-10-11T03:56:14.689697Z",
     "start_time": "2020-10-11T03:56:14.666662Z"
    }
   },
   "outputs": [],
   "source": [
    "from sklearn.linear_model import SGDClassifier\n",
    "from sklearn.model_selection import train_test_split\n",
    "import xgboost as xgb\n",
    "from xgboost.sklearn import XGBClassifier\n",
    "from sklearn.metrics import make_scorer, roc_auc_score, recall_score,classification_report, balanced_accuracy_score, accuracy_score\n",
    "from sklearn.pipeline import make_pipeline\n",
    "from sklearn.preprocessing import StandardScaler\n",
    "from sklearn.model_selection import GridSearchCV ,RandomizedSearchCV"
   ]
  },
  {
   "cell_type": "code",
   "execution_count": 24,
   "metadata": {
    "ExecuteTime": {
     "end_time": "2020-10-11T03:56:16.109809Z",
     "start_time": "2020-10-11T03:56:16.099248Z"
    },
    "code_folding": [
     12
    ]
   },
   "outputs": [],
   "source": [
    "X = audio_df_final.iloc[:,:-1]\n",
    "y = audio_df_final.iloc[:,-1:]\n",
    "scaler = StandardScaler()\n",
    "\n",
    "# Splittin training and test sets\n",
    "X_train, X_test, y_train, y_test = train_test_split(X,y, test_size = 0.2, random_state = 101)\n",
    "\n",
    "# Scaled data must be used for classification tasks \n",
    "X_train_sc = scaler.fit_transform(X_train)\n",
    "y_train_sc = y_train\n",
    "\n",
    "\n"
   ]
  },
  {
   "cell_type": "code",
   "execution_count": 25,
   "metadata": {
    "ExecuteTime": {
     "end_time": "2020-10-11T05:05:16.051595Z",
     "start_time": "2020-10-11T04:47:17.128049Z"
    }
   },
   "outputs": [
    {
     "name": "stdout",
     "output_type": "stream",
     "text": [
      "Fitting 5 folds for each of 117600 candidates, totalling 588000 fits\n"
     ]
    },
    {
     "name": "stderr",
     "output_type": "stream",
     "text": [
      "[Parallel(n_jobs=-1)]: Using backend LokyBackend with 8 concurrent workers.\n",
      "[Parallel(n_jobs=-1)]: Done  25 tasks      | elapsed:    1.7s\n",
      "[Parallel(n_jobs=-1)]: Done 1072 tasks      | elapsed:    3.6s\n",
      "[Parallel(n_jobs=-1)]: Done 4320 tasks      | elapsed:    9.1s\n",
      "[Parallel(n_jobs=-1)]: Done 8848 tasks      | elapsed:   17.4s\n",
      "[Parallel(n_jobs=-1)]: Done 14688 tasks      | elapsed:   27.7s\n",
      "[Parallel(n_jobs=-1)]: Done 21808 tasks      | elapsed:   41.2s\n",
      "[Parallel(n_jobs=-1)]: Done 30240 tasks      | elapsed:   56.9s\n",
      "[Parallel(n_jobs=-1)]: Done 39952 tasks      | elapsed:  1.2min\n",
      "[Parallel(n_jobs=-1)]: Done 50976 tasks      | elapsed:  1.6min\n",
      "[Parallel(n_jobs=-1)]: Done 63280 tasks      | elapsed:  1.9min\n",
      "[Parallel(n_jobs=-1)]: Done 76896 tasks      | elapsed:  2.4min\n",
      "[Parallel(n_jobs=-1)]: Done 91792 tasks      | elapsed:  2.9min\n",
      "[Parallel(n_jobs=-1)]: Done 108000 tasks      | elapsed:  3.4min\n",
      "[Parallel(n_jobs=-1)]: Done 125488 tasks      | elapsed:  4.0min\n",
      "[Parallel(n_jobs=-1)]: Done 144288 tasks      | elapsed:  4.6min\n",
      "[Parallel(n_jobs=-1)]: Done 164368 tasks      | elapsed:  5.2min\n",
      "[Parallel(n_jobs=-1)]: Done 185760 tasks      | elapsed:  5.8min\n",
      "[Parallel(n_jobs=-1)]: Done 208432 tasks      | elapsed:  6.5min\n",
      "[Parallel(n_jobs=-1)]: Done 232416 tasks      | elapsed:  7.2min\n",
      "[Parallel(n_jobs=-1)]: Done 257680 tasks      | elapsed:  7.9min\n",
      "[Parallel(n_jobs=-1)]: Done 284256 tasks      | elapsed:  8.7min\n",
      "[Parallel(n_jobs=-1)]: Done 312112 tasks      | elapsed:  9.5min\n",
      "[Parallel(n_jobs=-1)]: Done 341280 tasks      | elapsed: 10.4min\n",
      "[Parallel(n_jobs=-1)]: Done 371728 tasks      | elapsed: 11.3min\n",
      "[Parallel(n_jobs=-1)]: Done 403488 tasks      | elapsed: 12.3min\n",
      "[Parallel(n_jobs=-1)]: Done 436528 tasks      | elapsed: 13.3min\n",
      "[Parallel(n_jobs=-1)]: Done 470880 tasks      | elapsed: 14.3min\n",
      "[Parallel(n_jobs=-1)]: Done 506512 tasks      | elapsed: 15.4min\n",
      "[Parallel(n_jobs=-1)]: Done 543456 tasks      | elapsed: 16.6min\n",
      "[Parallel(n_jobs=-1)]: Done 581680 tasks      | elapsed: 17.7min\n",
      "[Parallel(n_jobs=-1)]: Done 588000 out of 588000 | elapsed: 17.9min finished\n"
     ]
    },
    {
     "name": "stdout",
     "output_type": "stream",
     "text": [
      "-- Epoch 1\n",
      "Norm: 13.22, NNZs: 4, Bias: 0.124854, T: 1512, Avg. loss: 0.663124\n",
      "Total training time: 0.00 seconds.\n",
      "-- Epoch 2\n",
      "Norm: 13.47, NNZs: 4, Bias: 0.314351, T: 3024, Avg. loss: 0.527634\n",
      "Total training time: 0.00 seconds.\n",
      "-- Epoch 3\n",
      "Norm: 13.59, NNZs: 4, Bias: 0.179569, T: 4536, Avg. loss: 0.515333\n",
      "Total training time: 0.00 seconds.\n",
      "-- Epoch 4\n",
      "Norm: 13.66, NNZs: 4, Bias: 0.088515, T: 6048, Avg. loss: 0.510422\n",
      "Total training time: 0.00 seconds.\n",
      "-- Epoch 5\n",
      "Norm: 13.70, NNZs: 4, Bias: 0.079328, T: 7560, Avg. loss: 0.511399\n",
      "Total training time: 0.00 seconds.\n",
      "-- Epoch 6\n",
      "Norm: 13.73, NNZs: 4, Bias: 0.061436, T: 9072, Avg. loss: 0.507035\n",
      "Total training time: 0.00 seconds.\n",
      "-- Epoch 7\n",
      "Norm: 13.76, NNZs: 4, Bias: 0.186180, T: 10584, Avg. loss: 0.507347\n",
      "Total training time: 0.00 seconds.\n",
      "-- Epoch 8\n",
      "Norm: 13.79, NNZs: 4, Bias: 0.103636, T: 12096, Avg. loss: 0.506878\n",
      "Total training time: 0.00 seconds.\n",
      "-- Epoch 9\n",
      "Norm: 13.80, NNZs: 3, Bias: 0.138523, T: 13608, Avg. loss: 0.507859\n",
      "Total training time: 0.00 seconds.\n",
      "-- Epoch 10\n",
      "Norm: 13.82, NNZs: 3, Bias: 0.136137, T: 15120, Avg. loss: 0.506782\n",
      "Total training time: 0.00 seconds.\n",
      "-- Epoch 11\n",
      "Norm: 13.85, NNZs: 3, Bias: 0.215505, T: 16632, Avg. loss: 0.506845\n",
      "Total training time: 0.00 seconds.\n",
      "Convergence after 11 epochs took 0.00 seconds\n"
     ]
    },
    {
     "data": {
      "text/plain": [
       "GridSearchCV(cv=5, error_score='raise-deprecating',\n",
       "             estimator=SGDClassifier(alpha=0.0001, average=False,\n",
       "                                     class_weight=None, early_stopping=False,\n",
       "                                     epsilon=0.1, eta0=0.0001,\n",
       "                                     fit_intercept=True, l1_ratio=0.15,\n",
       "                                     learning_rate='optimal', loss='hinge',\n",
       "                                     max_iter=1000, n_iter_no_change=5,\n",
       "                                     n_jobs=-1, penalty='l2', power_t=0.5,\n",
       "                                     random_state=99, shuffle=True, tol=0.001,\n",
       "                                     validatio...\n",
       "       0.049 , 0.0491, 0.0492, 0.0493, 0.0494, 0.0495, 0.0496, 0.0497,\n",
       "       0.0498, 0.0499]),\n",
       "                         'learning_rate': ['optimal', 'invscaling', 'adaptive'],\n",
       "                         'loss': ['hinge', 'log'],\n",
       "                         'max_iter': array([ 100,  600, 1100, 1600, 2100, 2600, 3100, 3600, 4100, 4600, 5100,\n",
       "       5600, 6100, 6600, 7100, 7600, 8100, 8600, 9100, 9600]),\n",
       "                         'penalty': ['l2', 'l1']},\n",
       "             pre_dispatch='2*n_jobs', refit=True, return_train_score=False,\n",
       "             scoring='accuracy', verbose=2)"
      ]
     },
     "execution_count": 25,
     "metadata": {},
     "output_type": "execute_result"
    }
   ],
   "source": [
    "## tuning \n",
    "tuned_parameters = {'loss':['hinge', 'log'],\n",
    "                     'penalty' : ['l2', 'l1'],\n",
    "                    'alpha' : np.arange(0.001,0.05,0.0001),\n",
    "                    'learning_rate' : ['optimal','invscaling','adaptive'],\n",
    "                    'max_iter' : np.arange(100,10000,500)\n",
    "                                      }\n",
    "\n",
    "clf = GridSearchCV(SGDClassifier(verbose = 1 ,n_jobs = -1, random_state = 99,eta0=0.0001)\n",
    ", tuned_parameters, cv=5, scoring=\"accuracy\" ,n_jobs = -1 , verbose = 2)\n",
    "\n",
    "clf.fit(X_train_sc, y_train_sc.values.ravel())\n"
   ]
  },
  {
   "cell_type": "code",
   "execution_count": 26,
   "metadata": {
    "ExecuteTime": {
     "end_time": "2020-10-11T05:05:16.065246Z",
     "start_time": "2020-10-11T05:05:16.053666Z"
    }
   },
   "outputs": [],
   "source": [
    "y_train_one_hot = y_train.replace('single',0)\n",
    "y_train_one_hot = y_train_one_hot.replace('multiple',1)\n",
    "\n",
    "y_test_one_hot = y_test.replace('single',0)\n",
    "y_test_one_hot = y_test_one_hot.replace('multiple',1)\n",
    "\n",
    "X_train_sc = scaler.fit_transform(X_train)\n",
    "y_train_sc = y_train_one_hot\n",
    "\n",
    "X_test_sc = scaler.fit_transform(X_test)"
   ]
  },
  {
   "cell_type": "code",
   "execution_count": 27,
   "metadata": {
    "ExecuteTime": {
     "end_time": "2020-10-11T05:05:16.078291Z",
     "start_time": "2020-10-11T05:05:16.067226Z"
    },
    "scrolled": true
   },
   "outputs": [
    {
     "name": "stdout",
     "output_type": "stream",
     "text": [
      "-- Epoch 1\n",
      "Norm: 13.22, NNZs: 4, Bias: -0.124854, T: 1512, Avg. loss: 0.663124\n",
      "Total training time: 0.00 seconds.\n",
      "-- Epoch 2\n",
      "Norm: 13.47, NNZs: 4, Bias: -0.314351, T: 3024, Avg. loss: 0.527634\n",
      "Total training time: 0.00 seconds.\n",
      "-- Epoch 3\n",
      "Norm: 13.59, NNZs: 4, Bias: -0.179569, T: 4536, Avg. loss: 0.515333\n",
      "Total training time: 0.00 seconds.\n",
      "-- Epoch 4\n",
      "Norm: 13.66, NNZs: 4, Bias: -0.088515, T: 6048, Avg. loss: 0.510422\n",
      "Total training time: 0.00 seconds.\n",
      "-- Epoch 5\n",
      "Norm: 13.70, NNZs: 4, Bias: -0.079328, T: 7560, Avg. loss: 0.511399\n",
      "Total training time: 0.00 seconds.\n",
      "-- Epoch 6\n",
      "Norm: 13.73, NNZs: 4, Bias: -0.061436, T: 9072, Avg. loss: 0.507035\n",
      "Total training time: 0.00 seconds.\n",
      "-- Epoch 7\n",
      "Norm: 13.76, NNZs: 4, Bias: -0.186180, T: 10584, Avg. loss: 0.507347\n",
      "Total training time: 0.00 seconds.\n",
      "-- Epoch 8\n",
      "Norm: 13.79, NNZs: 4, Bias: -0.103636, T: 12096, Avg. loss: 0.506878\n",
      "Total training time: 0.00 seconds.\n",
      "-- Epoch 9\n",
      "Norm: 13.80, NNZs: 3, Bias: -0.138523, T: 13608, Avg. loss: 0.507859\n",
      "Total training time: 0.00 seconds.\n",
      "-- Epoch 10\n",
      "Norm: 13.82, NNZs: 3, Bias: -0.136137, T: 15120, Avg. loss: 0.506782\n",
      "Total training time: 0.00 seconds.\n",
      "-- Epoch 11\n",
      "Norm: 13.85, NNZs: 3, Bias: -0.215505, T: 16632, Avg. loss: 0.506845\n",
      "Total training time: 0.00 seconds.\n",
      "Convergence after 11 epochs took 0.00 seconds\n"
     ]
    },
    {
     "data": {
      "text/plain": [
       "SGDClassifier(alpha=0.0086, average=False, class_weight=None,\n",
       "              early_stopping=False, epsilon=0.1, eta0=0.0001,\n",
       "              fit_intercept=True, l1_ratio=0.15, learning_rate='optimal',\n",
       "              loss='hinge', max_iter=100, n_iter_no_change=5, n_jobs=-1,\n",
       "              penalty='l1', power_t=0.5, random_state=99, shuffle=True,\n",
       "              tol=0.001, validation_fraction=0.1, verbose=1, warm_start=False)"
      ]
     },
     "execution_count": 27,
     "metadata": {},
     "output_type": "execute_result"
    }
   ],
   "source": [
    "clf = SGDClassifier(verbose = 1 ,n_jobs = -1, random_state = 99,eta0=0.0001, alpha = 0.0086\n",
    "                   ,learning_rate='optimal',loss='hinge',max_iter = 100, penalty = 'l1' )\n",
    "\n",
    "clf.fit(X_train_sc, y_train_sc.values.ravel())"
   ]
  },
  {
   "cell_type": "markdown",
   "metadata": {},
   "source": [
    "'alpha': 0.008600000000000003,\n",
    " 'learning_rate': 'optimal',\n",
    " 'loss': 'hinge',\n",
    " 'max_iter': 100,\n",
    " 'penalty': 'l1'"
   ]
  },
  {
   "cell_type": "code",
   "execution_count": 28,
   "metadata": {
    "ExecuteTime": {
     "end_time": "2020-10-11T05:05:16.087072Z",
     "start_time": "2020-10-11T05:05:16.080209Z"
    },
    "scrolled": true
   },
   "outputs": [
    {
     "name": "stdout",
     "output_type": "stream",
     "text": [
      "0.7440633245382586\n"
     ]
    }
   ],
   "source": [
    "X_test_sc = scaler.fit_transform(X_test)\n",
    "predictions = clf.predict(np.array(X_test_sc))\n",
    "print(accuracy_score(y_test_one_hot, predictions))"
   ]
  },
  {
   "cell_type": "code",
   "execution_count": 29,
   "metadata": {
    "ExecuteTime": {
     "end_time": "2020-10-11T05:05:16.096260Z",
     "start_time": "2020-10-11T05:05:16.088399Z"
    }
   },
   "outputs": [
    {
     "name": "stdout",
     "output_type": "stream",
     "text": [
      "0.7440633245382586\n",
      "              precision    recall  f1-score   support\n",
      "\n",
      "           0       0.78      0.75      0.76       209\n",
      "           1       0.71      0.74      0.72       170\n",
      "\n",
      "    accuracy                           0.74       379\n",
      "   macro avg       0.74      0.74      0.74       379\n",
      "weighted avg       0.75      0.74      0.74       379\n",
      "\n"
     ]
    }
   ],
   "source": [
    "print(accuracy_score(y_test_one_hot, predictions))\n",
    "print(classification_report(y_test_one_hot,predictions))"
   ]
  },
  {
   "cell_type": "markdown",
   "metadata": {},
   "source": [
    "## KNN "
   ]
  },
  {
   "cell_type": "code",
   "execution_count": 31,
   "metadata": {
    "ExecuteTime": {
     "end_time": "2020-10-11T05:05:16.466533Z",
     "start_time": "2020-10-11T05:05:16.455598Z"
    }
   },
   "outputs": [
    {
     "data": {
      "text/plain": [
       "KNeighborsClassifier(algorithm='auto', leaf_size=30, metric='minkowski',\n",
       "                     metric_params=None, n_jobs=None, n_neighbors=2, p=2,\n",
       "                     weights='distance')"
      ]
     },
     "execution_count": 31,
     "metadata": {},
     "output_type": "execute_result"
    }
   ],
   "source": [
    "from sklearn.neighbors import KNeighborsClassifier\n",
    "knn_clf = KNeighborsClassifier(n_neighbors = 2,weights ='distance')\n",
    "knn_clf.fit(X_train_sc, y_train_sc.values.ravel())"
   ]
  },
  {
   "cell_type": "code",
   "execution_count": 32,
   "metadata": {
    "ExecuteTime": {
     "end_time": "2020-10-11T05:05:41.669600Z",
     "start_time": "2020-10-11T05:05:16.468964Z"
    }
   },
   "outputs": [
    {
     "name": "stderr",
     "output_type": "stream",
     "text": [
      "[Parallel(n_jobs=-1)]: Using backend LokyBackend with 8 concurrent workers.\n"
     ]
    },
    {
     "name": "stdout",
     "output_type": "stream",
     "text": [
      "Fitting 10 folds for each of 600 candidates, totalling 6000 fits\n"
     ]
    },
    {
     "name": "stderr",
     "output_type": "stream",
     "text": [
      "[Parallel(n_jobs=-1)]: Done  34 tasks      | elapsed:    0.2s\n",
      "[Parallel(n_jobs=-1)]: Done 768 tasks      | elapsed:    2.9s\n",
      "[Parallel(n_jobs=-1)]: Done 2392 tasks      | elapsed:    9.6s\n",
      "[Parallel(n_jobs=-1)]: Done 4656 tasks      | elapsed:   17.1s\n",
      "[Parallel(n_jobs=-1)]: Done 6000 out of 6000 | elapsed:   25.2s finished\n"
     ]
    },
    {
     "data": {
      "text/plain": [
       "GridSearchCV(cv=10, error_score='raise-deprecating',\n",
       "             estimator=KNeighborsClassifier(algorithm='auto', leaf_size=30,\n",
       "                                            metric='minkowski',\n",
       "                                            metric_params=None, n_jobs=None,\n",
       "                                            n_neighbors=2, p=2,\n",
       "                                            weights='uniform'),\n",
       "             iid='warn', n_jobs=-1,\n",
       "             param_grid={'algorithm': ['ball_tree', 'kd_tree', 'brute'],\n",
       "                         'leaf_size': array([ 1,  3,  5,  7,  9, 11, 13, 15, 17, 19, 21, 23, 25, 27, 29, 31, 33,\n",
       "       35, 37, 39, 41, 43, 45, 47, 49]),\n",
       "                         'p': array([1, 2, 3, 4]),\n",
       "                         'weights': ['uniform', 'distance']},\n",
       "             pre_dispatch='2*n_jobs', refit=True, return_train_score=False,\n",
       "             scoring='f1', verbose=2)"
      ]
     },
     "execution_count": 32,
     "metadata": {},
     "output_type": "execute_result"
    }
   ],
   "source": [
    "## tuning \n",
    "tuned_parameters_knn = {'weights':['uniform', 'distance'],\n",
    "                     'algorithm' : ['ball_tree', 'kd_tree', 'brute'],\n",
    "                    'leaf_size' : np.arange(1,50,2),\n",
    "                    'p' : np.arange(1,5,1)\n",
    "                                      }\n",
    "\n",
    "clf_knn = GridSearchCV(KNeighborsClassifier(n_neighbors = 2,metric_params= None)\n",
    ", tuned_parameters_knn, cv=10, scoring=\"f1\" ,n_jobs = -1 , verbose = 2)\n",
    "\n",
    "clf_knn.fit(X_train_sc, y_train_sc.values.ravel())\n"
   ]
  },
  {
   "cell_type": "code",
   "execution_count": 38,
   "metadata": {
    "ExecuteTime": {
     "end_time": "2020-10-11T05:36:07.544587Z",
     "start_time": "2020-10-11T05:36:07.534997Z"
    }
   },
   "outputs": [
    {
     "name": "stdout",
     "output_type": "stream",
     "text": [
      "0.7229551451187335\n"
     ]
    }
   ],
   "source": [
    "X_test_sc = scaler.fit_transform(X_test)\n",
    "knn_predictions = knn_clf.predict(np.array(X_test_sc))\n",
    "print(accuracy_score(y_test_one_hot, knn_predictions))"
   ]
  },
  {
   "cell_type": "code",
   "execution_count": 39,
   "metadata": {
    "ExecuteTime": {
     "end_time": "2020-10-11T05:36:08.925596Z",
     "start_time": "2020-10-11T05:36:08.877498Z"
    }
   },
   "outputs": [
    {
     "name": "stdout",
     "output_type": "stream",
     "text": [
      "0.7255936675461742\n"
     ]
    }
   ],
   "source": [
    "knn_predictions = clf_knn.predict(np.array(X_test_sc))\n",
    "print(accuracy_score(y_test_one_hot, knn_predictions))"
   ]
  },
  {
   "cell_type": "code",
   "execution_count": 40,
   "metadata": {
    "ExecuteTime": {
     "end_time": "2020-10-11T05:36:10.325668Z",
     "start_time": "2020-10-11T05:36:10.317338Z"
    }
   },
   "outputs": [
    {
     "name": "stdout",
     "output_type": "stream",
     "text": [
      "0.7255936675461742\n",
      "              precision    recall  f1-score   support\n",
      "\n",
      "           0       0.74      0.77      0.76       209\n",
      "           1       0.70      0.67      0.69       170\n",
      "\n",
      "    accuracy                           0.73       379\n",
      "   macro avg       0.72      0.72      0.72       379\n",
      "weighted avg       0.72      0.73      0.72       379\n",
      "\n"
     ]
    }
   ],
   "source": [
    "print(accuracy_score(y_test_one_hot, knn_predictions))\n",
    "print(classification_report(y_test_one_hot,knn_predictions))"
   ]
  },
  {
   "cell_type": "markdown",
   "metadata": {},
   "source": [
    "## MLP "
   ]
  },
  {
   "cell_type": "code",
   "execution_count": 41,
   "metadata": {
    "ExecuteTime": {
     "end_time": "2020-10-11T05:36:12.071089Z",
     "start_time": "2020-10-11T05:36:11.907236Z"
    }
   },
   "outputs": [
    {
     "data": {
      "text/plain": [
       "MLPClassifier(activation='relu', alpha=1e-05, batch_size='auto', beta_1=0.9,\n",
       "              beta_2=0.999, early_stopping=False, epsilon=1e-08,\n",
       "              hidden_layer_sizes=(5, 2), learning_rate='constant',\n",
       "              learning_rate_init=0.001, max_iter=200, momentum=0.9,\n",
       "              n_iter_no_change=10, nesterovs_momentum=True, power_t=0.5,\n",
       "              random_state=1, shuffle=True, solver='lbfgs', tol=0.0001,\n",
       "              validation_fraction=0.1, verbose=False, warm_start=False)"
      ]
     },
     "execution_count": 41,
     "metadata": {},
     "output_type": "execute_result"
    }
   ],
   "source": [
    "from sklearn.neural_network import MLPClassifier\n",
    "mlp_clf = MLPClassifier(solver='lbfgs', alpha=1e-5,\n",
    "                     hidden_layer_sizes=(5, 2), random_state=1)\n",
    "\n",
    "mlp_clf.fit(X_train_sc, y_train_sc.values.ravel())\n"
   ]
  },
  {
   "cell_type": "code",
   "execution_count": 43,
   "metadata": {
    "ExecuteTime": {
     "end_time": "2020-10-11T06:08:19.287746Z",
     "start_time": "2020-10-11T05:52:45.841270Z"
    }
   },
   "outputs": [
    {
     "name": "stdout",
     "output_type": "stream",
     "text": [
      "Fitting 5 folds for each of 500 candidates, totalling 2500 fits\n"
     ]
    },
    {
     "name": "stderr",
     "output_type": "stream",
     "text": [
      "[Parallel(n_jobs=-1)]: Using backend LokyBackend with 8 concurrent workers.\n",
      "[Parallel(n_jobs=-1)]: Done  25 tasks      | elapsed:   12.3s\n",
      "[Parallel(n_jobs=-1)]: Done 146 tasks      | elapsed:  1.1min\n",
      "[Parallel(n_jobs=-1)]: Done 349 tasks      | elapsed:  2.6min\n",
      "[Parallel(n_jobs=-1)]: Done 632 tasks      | elapsed:  4.8min\n",
      "[Parallel(n_jobs=-1)]: Done 997 tasks      | elapsed:  6.7min\n",
      "[Parallel(n_jobs=-1)]: Done 1442 tasks      | elapsed:  9.3min\n",
      "[Parallel(n_jobs=-1)]: Done 1969 tasks      | elapsed: 12.5min\n",
      "[Parallel(n_jobs=-1)]: Done 2500 out of 2500 | elapsed: 15.5min finished\n",
      "/Users/avinashl/anaconda3/lib/python3.7/site-packages/sklearn/neural_network/multilayer_perceptron.py:566: ConvergenceWarning: Stochastic Optimizer: Maximum iterations (200) reached and the optimization hasn't converged yet.\n",
      "  % self.max_iter, ConvergenceWarning)\n"
     ]
    },
    {
     "data": {
      "text/plain": [
       "RandomizedSearchCV(cv=5, error_score='raise-deprecating',\n",
       "                   estimator=MLPClassifier(activation='relu', alpha=0.0001,\n",
       "                                           batch_size='auto', beta_1=0.9,\n",
       "                                           beta_2=0.999, early_stopping=False,\n",
       "                                           epsilon=1e-08,\n",
       "                                           hidden_layer_sizes=(100,),\n",
       "                                           learning_rate='constant',\n",
       "                                           learning_rate_init=0.001,\n",
       "                                           max_iter=200, momentum=0.9,\n",
       "                                           n_iter_no_change=10,\n",
       "                                           nesterovs_momentum=True, power_t=0.5,\n",
       "                                           rand...\n",
       "       0.00045, 0.0005 , 0.00055, 0.0006 , 0.00065, 0.0007 , 0.00075,\n",
       "       0.0008 , 0.00085, 0.0009 , 0.00095]),\n",
       "                                        'batch_size': array([ 10,  20,  30,  40,  50,  60,  70,  80,  90, 100, 110, 120, 130,\n",
       "       140, 150, 160, 170, 180, 190]),\n",
       "                                        'hidden_layer_sizes': array([ 10, 110, 210, 310, 410]),\n",
       "                                        'solver': ['lbfgs', 'sgd', 'adam']},\n",
       "                   pre_dispatch='2*n_jobs', random_state=None, refit=True,\n",
       "                   return_train_score=False, scoring='accuracy', verbose=2)"
      ]
     },
     "execution_count": 43,
     "metadata": {},
     "output_type": "execute_result"
    }
   ],
   "source": [
    "## tuning \n",
    "tuned_parameters_mlp = {'hidden_layer_sizes' : np.arange(10,510,100),\n",
    "                        'activation' : ['identity','logistic','tanh','relu'],\n",
    "                        'solver' : ['lbfgs', 'sgd', 'adam'],\n",
    "                        'alpha' : np.arange(0.0001,0.001,0.00005) ,\n",
    "                        'batch_size' : np.arange(10,200,10),\n",
    "                      }\n",
    "\n",
    "clf_mlp = RandomizedSearchCV(MLPClassifier(random_state = 99),n_iter = 500\n",
    ", param_distributions = tuned_parameters_mlp, cv=5, scoring=\"accuracy\" ,n_jobs = -1 , verbose = 2)\n",
    "\n",
    "clf_mlp.fit(X_train_sc, y_train_sc.values.ravel())\n"
   ]
  },
  {
   "cell_type": "markdown",
   "metadata": {
    "ExecuteTime": {
     "end_time": "2020-09-28T09:07:37.650659Z",
     "start_time": "2020-09-28T09:07:37.646765Z"
    }
   },
   "source": [
    "clf_mlp.best_params_\n",
    "\n",
    "{'solver': 'adam',\n",
    " 'hidden_layer_sizes': 410,\n",
    " 'batch_size': 70,\n",
    " 'alpha': 0.00035000000000000005,\n",
    " 'activation': 'relu'}"
   ]
  },
  {
   "cell_type": "code",
   "execution_count": 44,
   "metadata": {
    "ExecuteTime": {
     "end_time": "2020-10-11T06:08:19.298770Z",
     "start_time": "2020-10-11T06:08:19.291130Z"
    }
   },
   "outputs": [
    {
     "name": "stdout",
     "output_type": "stream",
     "text": [
      "0.783641160949868\n"
     ]
    }
   ],
   "source": [
    "mlp_predictions = mlp_clf.predict(np.array(X_test_sc))\n",
    "print(accuracy_score(y_test_one_hot, mlp_predictions))\n"
   ]
  },
  {
   "cell_type": "code",
   "execution_count": 45,
   "metadata": {
    "ExecuteTime": {
     "end_time": "2020-10-11T06:08:19.311796Z",
     "start_time": "2020-10-11T06:08:19.301504Z"
    }
   },
   "outputs": [
    {
     "name": "stdout",
     "output_type": "stream",
     "text": [
      "0.783641160949868\n",
      "              precision    recall  f1-score   support\n",
      "\n",
      "           0       0.79      0.82      0.81       209\n",
      "           1       0.77      0.74      0.75       170\n",
      "\n",
      "    accuracy                           0.78       379\n",
      "   macro avg       0.78      0.78      0.78       379\n",
      "weighted avg       0.78      0.78      0.78       379\n",
      "\n"
     ]
    }
   ],
   "source": [
    "print(accuracy_score(y_test_one_hot, mlp_predictions))\n",
    "print(classification_report(y_test_one_hot,mlp_predictions))"
   ]
  },
  {
   "cell_type": "markdown",
   "metadata": {
    "ExecuteTime": {
     "end_time": "2020-09-30T12:07:31.602341Z",
     "start_time": "2020-09-30T12:07:31.563327Z"
    }
   },
   "source": [
    "## XGBoost"
   ]
  },
  {
   "cell_type": "code",
   "execution_count": 46,
   "metadata": {
    "ExecuteTime": {
     "end_time": "2020-10-11T06:14:08.206998Z",
     "start_time": "2020-10-11T06:08:19.314505Z"
    }
   },
   "outputs": [
    {
     "name": "stderr",
     "output_type": "stream",
     "text": [
      "[Parallel(n_jobs=-1)]: Using backend LokyBackend with 8 concurrent workers.\n"
     ]
    },
    {
     "name": "stdout",
     "output_type": "stream",
     "text": [
      "Randomized search..\n",
      "Fitting 3 folds for each of 500 candidates, totalling 1500 fits\n"
     ]
    },
    {
     "name": "stderr",
     "output_type": "stream",
     "text": [
      "[Parallel(n_jobs=-1)]: Done  25 tasks      | elapsed:    6.6s\n",
      "[Parallel(n_jobs=-1)]: Done 146 tasks      | elapsed:   33.6s\n",
      "[Parallel(n_jobs=-1)]: Done 349 tasks      | elapsed:  1.3min\n",
      "[Parallel(n_jobs=-1)]: Done 632 tasks      | elapsed:  2.4min\n",
      "[Parallel(n_jobs=-1)]: Done 997 tasks      | elapsed:  3.8min\n",
      "[Parallel(n_jobs=-1)]: Done 1442 tasks      | elapsed:  5.6min\n",
      "[Parallel(n_jobs=-1)]: Done 1500 out of 1500 | elapsed:  5.8min finished\n"
     ]
    },
    {
     "name": "stdout",
     "output_type": "stream",
     "text": [
      "Best score: 0.8194444444444444\n",
      "Best params: \n",
      "alpha: 0.0009500000000000002\n",
      "colsample_bylevel: 0.9\n",
      "colsample_bytree: 0.8\n",
      "gamma: 0.05\n",
      "learning_rate: 0.1\n",
      "max_depth: 188\n",
      "n_estimators: 550\n",
      "reg_lambda: 50.0\n",
      "silent: False\n",
      "subsample: 0.3\n"
     ]
    }
   ],
   "source": [
    "import xgboost as xgb\n",
    "from xgboost.sklearn import XGBClassifier\n",
    "\n",
    "\n",
    "clf = XGBClassifier(eval_metric ='error', early_stopping_rounds = 10, booster = 'gbtree',objective =\"multi:softmax\",num_class=2 )\n",
    "\n",
    "param_grid = {\n",
    "        'silent': [False],\n",
    "        'max_depth':[int(x) for x in np.linspace(20, 400, num = 10)],\n",
    "        'learning_rate': [0.001,0.005, 0.01, 0.1, 0.2, 0,3],\n",
    "        'subsample': [0.3,0.4,0.5],\n",
    "        'colsample_bytree': [ 0.7, 0.8, 0.9, 1.0],\n",
    "        'colsample_bylevel': [ 0.7, 0.8, 0.9, 1.0],\n",
    "        'gamma': [0.005,0.01,0.02,0.05, 0.1,0.25,0.5,1,2,3,5],\n",
    "        'reg_lambda': [0.1, 1.0, 5.0, 10.0, 50.0, 100.0,150,200,300],\n",
    "        'n_estimators': np.arange(50,1060,100),\n",
    "        'alpha' :np.arange(0.0001,0.001,0.00005)\n",
    "        }\n",
    "\n",
    "\n",
    "rs_clf = RandomizedSearchCV(clf, param_grid, n_iter=500,\n",
    "                            n_jobs=-1, verbose=2, cv=3,\n",
    "                            scoring='accuracy', refit=True, random_state=42)\n",
    "\n",
    "print(\"Randomized search..\")\n",
    "rs_clf.fit(X_train_sc, y_train_sc.values.ravel())\n",
    "\n",
    "best_score = rs_clf.best_score_\n",
    "best_params = rs_clf.best_params_\n",
    "print(\"Best score: {}\".format(best_score))\n",
    "print(\"Best params: \")\n",
    "for param_name in sorted(best_params.keys()):\n",
    "    print('%s: %r' % (param_name, best_params[param_name]))"
   ]
  },
  {
   "cell_type": "code",
   "execution_count": 47,
   "metadata": {
    "ExecuteTime": {
     "end_time": "2020-10-11T06:23:02.068141Z",
     "start_time": "2020-10-11T06:14:08.208434Z"
    }
   },
   "outputs": [
    {
     "name": "stdout",
     "output_type": "stream",
     "text": [
      "Randomized search..\n",
      "Fitting 5 folds for each of 500 candidates, totalling 2500 fits\n"
     ]
    },
    {
     "name": "stderr",
     "output_type": "stream",
     "text": [
      "[Parallel(n_jobs=-1)]: Using backend LokyBackend with 8 concurrent workers.\n",
      "[Parallel(n_jobs=-1)]: Done  25 tasks      | elapsed:    5.3s\n",
      "[Parallel(n_jobs=-1)]: Done 146 tasks      | elapsed:   30.8s\n",
      "[Parallel(n_jobs=-1)]: Done 349 tasks      | elapsed:  1.3min\n",
      "[Parallel(n_jobs=-1)]: Done 632 tasks      | elapsed:  2.3min\n",
      "[Parallel(n_jobs=-1)]: Done 997 tasks      | elapsed:  3.7min\n",
      "[Parallel(n_jobs=-1)]: Done 1442 tasks      | elapsed:  5.1min\n",
      "[Parallel(n_jobs=-1)]: Done 1969 tasks      | elapsed:  6.8min\n",
      "[Parallel(n_jobs=-1)]: Done 2500 out of 2500 | elapsed:  8.9min finished\n",
      "/Users/avinashl/anaconda3/lib/python3.7/site-packages/sklearn/model_selection/_search.py:813: DeprecationWarning: The default of the `iid` parameter will change from True to False in version 0.22 and will be removed in 0.24. This will change numeric results when test-set sizes are unequal.\n",
      "  DeprecationWarning)\n"
     ]
    },
    {
     "name": "stdout",
     "output_type": "stream",
     "text": [
      "Best score: 0.800559834352089\n",
      "Best params: \n",
      "alpha: 0.0008000000000000001\n",
      "colsample_bylevel: 0.8\n",
      "colsample_bytree: 0.8\n",
      "gamma: 0.005\n",
      "learning_rate: 0.005\n",
      "max_depth: 400\n",
      "n_estimators: 950\n",
      "reg_lambda: 10.0\n",
      "silent: False\n",
      "subsample: 0.5\n"
     ]
    }
   ],
   "source": [
    "import xgboost as xgb\n",
    "from xgboost.sklearn import XGBClassifier\n",
    "\n",
    "\n",
    "clf = XGBClassifier(eval_metric ='error', early_stopping_rounds = 10, booster = 'gbtree',objective =\"multi:softmax\",num_class=2 )\n",
    "\n",
    "param_grid = {\n",
    "        'silent': [False],\n",
    "        'max_depth':[int(x) for x in np.linspace(20, 400, num = 10)],\n",
    "        'learning_rate': [0.001,0.005, 0.01, 0.1, 0.2, 0,3],\n",
    "        'subsample': [0.3,0.4,0.5],\n",
    "        'colsample_bytree': [ 0.3,0.7, 0.8, 0.9, 1.0],\n",
    "        'colsample_bylevel': [ 0.3,0.7, 0.8, 0.9, 1.0],\n",
    "        'gamma': [0.005,0.01,0.02,0.05],\n",
    "        'reg_lambda': [10.0, 50.0, 100.0,150,200,300],\n",
    "        'n_estimators': np.arange(50,1060,100),\n",
    "        'alpha' :np.arange(0.0001,0.001,0.00005)\n",
    "        }\n",
    "\n",
    "\n",
    "rs_clf = RandomizedSearchCV(clf, param_grid, n_iter=500,\n",
    "                            n_jobs=-1, verbose=2, cv=5,\n",
    "                            scoring='f1', refit=True, random_state=42)\n",
    "\n",
    "print(\"Randomized search..\")\n",
    "rs_clf.fit(X_train_sc, y_train_sc.values.ravel())\n",
    "\n",
    "best_score = rs_clf.best_score_\n",
    "best_params = rs_clf.best_params_\n",
    "print(\"Best score: {}\".format(best_score))\n",
    "print(\"Best params: \")\n",
    "for param_name in sorted(best_params.keys()):\n",
    "    print('%s: %r' % (param_name, best_params[param_name]))"
   ]
  },
  {
   "cell_type": "code",
   "execution_count": 48,
   "metadata": {
    "ExecuteTime": {
     "end_time": "2020-10-11T06:23:02.174741Z",
     "start_time": "2020-10-11T06:23:02.069717Z"
    }
   },
   "outputs": [
    {
     "name": "stdout",
     "output_type": "stream",
     "text": [
      "0.7783641160949868\n"
     ]
    }
   ],
   "source": [
    "xgb_pred = rs_clf.predict(np.array(X_test_sc))\n",
    "print(accuracy_score(y_test_one_hot, xgb_pred))"
   ]
  },
  {
   "cell_type": "code",
   "execution_count": 49,
   "metadata": {
    "ExecuteTime": {
     "end_time": "2020-10-11T06:23:02.184067Z",
     "start_time": "2020-10-11T06:23:02.176527Z"
    }
   },
   "outputs": [
    {
     "name": "stdout",
     "output_type": "stream",
     "text": [
      "0.7783641160949868\n",
      "              precision    recall  f1-score   support\n",
      "\n",
      "           0       0.79      0.81      0.80       209\n",
      "           1       0.76      0.74      0.75       170\n",
      "\n",
      "    accuracy                           0.78       379\n",
      "   macro avg       0.78      0.77      0.78       379\n",
      "weighted avg       0.78      0.78      0.78       379\n",
      "\n"
     ]
    }
   ],
   "source": [
    "print(accuracy_score(y_test_one_hot, xgb_pred))\n",
    "print(classification_report(y_test_one_hot,xgb_pred))"
   ]
  },
  {
   "cell_type": "markdown",
   "metadata": {},
   "source": [
    "## Neural Nets"
   ]
  },
  {
   "cell_type": "code",
   "execution_count": 50,
   "metadata": {
    "ExecuteTime": {
     "end_time": "2020-10-11T06:23:04.626246Z",
     "start_time": "2020-10-11T06:23:02.186266Z"
    }
   },
   "outputs": [],
   "source": [
    "import tensorflow as tf\n",
    "from keras.models import Sequential\n",
    "import pandas as pd\n",
    "from keras.layers import Dense, Dropout,BatchNormalization,GlobalAveragePooling2D,BatchNormalization\n",
    "\n",
    "from keras.optimizers import Adam\n"
   ]
  },
  {
   "cell_type": "code",
   "execution_count": null,
   "metadata": {
    "ExecuteTime": {
     "end_time": "2020-10-11T05:52:43.055918Z",
     "start_time": "2020-10-11T05:36:26.786Z"
    }
   },
   "outputs": [],
   "source": [
    "callback = tf.keras.callbacks.EarlyStopping(monitor='val_accuracy', patience=50)\n",
    "model = Sequential()\n",
    "\n",
    "model.add(Dense(64,input_dim=6, activation='relu'))\n",
    "model.add(Dense(128, activation='relu'))\n",
    "model.add(Dense(128, activation='relu'))\n",
    "model.add(Dense(128, activation='relu'))\n",
    "model.add(Dense(64, activation='relu'))\n",
    "model.add(Dense(16, activation='relu'))\n",
    "model.add(Dense(1, activation='sigmoid'))\n"
   ]
  },
  {
   "cell_type": "code",
   "execution_count": 51,
   "metadata": {
    "ExecuteTime": {
     "end_time": "2020-10-11T06:23:04.705692Z",
     "start_time": "2020-10-11T06:23:04.628056Z"
    }
   },
   "outputs": [],
   "source": [
    "callback = tf.keras.callbacks.EarlyStopping(monitor='val_accuracy', patience=150)\n",
    "model = Sequential()\n",
    "optimizer = Adam(lr=0.001, beta_1=0.9, beta_2=0.999)\n",
    "model.add(Dense(64,input_dim=6, activation='relu',kernel_initializer=\"he_normal\",use_bias=False))\n",
    "BatchNormalization()\n",
    "model.add(Dense(128, activation='relu',kernel_initializer=\"he_normal\",use_bias=False))\n",
    "BatchNormalization()\n",
    "model.add(Dense(128, activation='relu',kernel_initializer=\"he_normal\",use_bias=False))\n",
    "BatchNormalization()\n",
    "model.add(Dense(128, activation='relu',kernel_initializer=\"he_normal\",use_bias=False))\n",
    "BatchNormalization()\n",
    "model.add(Dense(64, activation='relu',kernel_initializer=\"he_normal\",use_bias=False))\n",
    "BatchNormalization()\n",
    "model.add(Dense(1, activation='sigmoid'))\n"
   ]
  },
  {
   "cell_type": "code",
   "execution_count": 52,
   "metadata": {
    "ExecuteTime": {
     "end_time": "2020-10-11T06:24:11.266058Z",
     "start_time": "2020-10-11T06:23:04.707475Z"
    },
    "scrolled": true
   },
   "outputs": [
    {
     "name": "stdout",
     "output_type": "stream",
     "text": [
      "Epoch 1/50\n",
      "1512/1512 [==============================] - 1s 951us/step - loss: 0.5128 - accuracy: 0.7712 - val_loss: 0.4893 - val_accuracy: 0.7704\n",
      "Epoch 2/50\n",
      "1512/1512 [==============================] - 1s 863us/step - loss: 0.4447 - accuracy: 0.8082 - val_loss: 0.5213 - val_accuracy: 0.7625\n",
      "Epoch 3/50\n",
      "1512/1512 [==============================] - 1s 856us/step - loss: 0.4392 - accuracy: 0.8022 - val_loss: 0.4922 - val_accuracy: 0.7836\n",
      "Epoch 4/50\n",
      "1512/1512 [==============================] - 1s 868us/step - loss: 0.4282 - accuracy: 0.8102 - val_loss: 0.4751 - val_accuracy: 0.7784\n",
      "Epoch 5/50\n",
      "1512/1512 [==============================] - 1s 871us/step - loss: 0.4243 - accuracy: 0.8168 - val_loss: 0.5267 - val_accuracy: 0.7784\n",
      "Epoch 6/50\n",
      "1512/1512 [==============================] - 1s 867us/step - loss: 0.4074 - accuracy: 0.8128 - val_loss: 0.5145 - val_accuracy: 0.7810\n",
      "Epoch 7/50\n",
      "1512/1512 [==============================] - 1s 907us/step - loss: 0.4066 - accuracy: 0.8214 - val_loss: 0.5680 - val_accuracy: 0.7599\n",
      "Epoch 8/50\n",
      "1512/1512 [==============================] - 1s 881us/step - loss: 0.4030 - accuracy: 0.8214 - val_loss: 0.5455 - val_accuracy: 0.7836\n",
      "Epoch 9/50\n",
      "1512/1512 [==============================] - 1s 867us/step - loss: 0.3918 - accuracy: 0.8294 - val_loss: 0.5477 - val_accuracy: 0.7757\n",
      "Epoch 10/50\n",
      "1512/1512 [==============================] - 1s 870us/step - loss: 0.3852 - accuracy: 0.8287 - val_loss: 0.5136 - val_accuracy: 0.7704\n",
      "Epoch 11/50\n",
      "1512/1512 [==============================] - 1s 865us/step - loss: 0.3870 - accuracy: 0.8280 - val_loss: 0.4846 - val_accuracy: 0.7863\n",
      "Epoch 12/50\n",
      "1512/1512 [==============================] - 1s 879us/step - loss: 0.3869 - accuracy: 0.8287 - val_loss: 0.4786 - val_accuracy: 0.7757\n",
      "Epoch 13/50\n",
      "1512/1512 [==============================] - 1s 864us/step - loss: 0.3741 - accuracy: 0.8267 - val_loss: 0.4796 - val_accuracy: 0.7757\n",
      "Epoch 14/50\n",
      "1512/1512 [==============================] - 1s 866us/step - loss: 0.3731 - accuracy: 0.8307 - val_loss: 0.5523 - val_accuracy: 0.7810\n",
      "Epoch 15/50\n",
      "1512/1512 [==============================] - 1s 867us/step - loss: 0.3616 - accuracy: 0.8373 - val_loss: 0.5108 - val_accuracy: 0.7784\n",
      "Epoch 16/50\n",
      "1512/1512 [==============================] - 1s 872us/step - loss: 0.3557 - accuracy: 0.8333 - val_loss: 0.5948 - val_accuracy: 0.7678\n",
      "Epoch 17/50\n",
      "1512/1512 [==============================] - 1s 861us/step - loss: 0.3624 - accuracy: 0.8380 - val_loss: 0.5803 - val_accuracy: 0.7414\n",
      "Epoch 18/50\n",
      "1512/1512 [==============================] - 1s 866us/step - loss: 0.3479 - accuracy: 0.8413 - val_loss: 0.5348 - val_accuracy: 0.7652\n",
      "Epoch 19/50\n",
      "1512/1512 [==============================] - 1s 863us/step - loss: 0.3471 - accuracy: 0.8419 - val_loss: 0.5424 - val_accuracy: 0.7652\n",
      "Epoch 20/50\n",
      "1512/1512 [==============================] - 1s 859us/step - loss: 0.3488 - accuracy: 0.8485 - val_loss: 0.7166 - val_accuracy: 0.7573\n",
      "Epoch 21/50\n",
      "1512/1512 [==============================] - 1s 864us/step - loss: 0.3444 - accuracy: 0.8499 - val_loss: 0.5626 - val_accuracy: 0.7704\n",
      "Epoch 22/50\n",
      "1512/1512 [==============================] - 1s 864us/step - loss: 0.3350 - accuracy: 0.8538 - val_loss: 0.5745 - val_accuracy: 0.7546\n",
      "Epoch 23/50\n",
      "1512/1512 [==============================] - 1s 872us/step - loss: 0.3306 - accuracy: 0.8472 - val_loss: 0.5642 - val_accuracy: 0.7652\n",
      "Epoch 24/50\n",
      "1512/1512 [==============================] - 1s 865us/step - loss: 0.3268 - accuracy: 0.8565 - val_loss: 0.5859 - val_accuracy: 0.7625\n",
      "Epoch 25/50\n",
      "1512/1512 [==============================] - 1s 872us/step - loss: 0.3253 - accuracy: 0.8664 - val_loss: 0.5625 - val_accuracy: 0.7520\n",
      "Epoch 26/50\n",
      "1512/1512 [==============================] - 1s 852us/step - loss: 0.3261 - accuracy: 0.8558 - val_loss: 0.5996 - val_accuracy: 0.7599\n",
      "Epoch 27/50\n",
      "1512/1512 [==============================] - 1s 873us/step - loss: 0.3218 - accuracy: 0.8538 - val_loss: 0.6652 - val_accuracy: 0.7599\n",
      "Epoch 28/50\n",
      "1512/1512 [==============================] - 1s 867us/step - loss: 0.3034 - accuracy: 0.8677 - val_loss: 0.7051 - val_accuracy: 0.7678\n",
      "Epoch 29/50\n",
      "1512/1512 [==============================] - 1s 858us/step - loss: 0.3076 - accuracy: 0.8664 - val_loss: 0.6787 - val_accuracy: 0.7625\n",
      "Epoch 30/50\n",
      "1512/1512 [==============================] - 1s 881us/step - loss: 0.3049 - accuracy: 0.8690 - val_loss: 0.7545 - val_accuracy: 0.7625\n",
      "Epoch 31/50\n",
      "1512/1512 [==============================] - 1s 869us/step - loss: 0.2984 - accuracy: 0.8671 - val_loss: 0.7367 - val_accuracy: 0.7546\n",
      "Epoch 32/50\n",
      "1512/1512 [==============================] - 1s 866us/step - loss: 0.2978 - accuracy: 0.8743 - val_loss: 0.6648 - val_accuracy: 0.7652\n",
      "Epoch 33/50\n",
      "1512/1512 [==============================] - 1s 876us/step - loss: 0.2861 - accuracy: 0.8631 - val_loss: 1.0892 - val_accuracy: 0.7731\n",
      "Epoch 34/50\n",
      "1512/1512 [==============================] - 1s 866us/step - loss: 0.2890 - accuracy: 0.8737 - val_loss: 0.7898 - val_accuracy: 0.7441\n",
      "Epoch 35/50\n",
      "1512/1512 [==============================] - 1s 870us/step - loss: 0.2904 - accuracy: 0.8776 - val_loss: 0.6522 - val_accuracy: 0.7599\n",
      "Epoch 36/50\n",
      "1512/1512 [==============================] - 1s 870us/step - loss: 0.2840 - accuracy: 0.8783 - val_loss: 0.9130 - val_accuracy: 0.7704\n",
      "Epoch 37/50\n",
      "1512/1512 [==============================] - 1s 887us/step - loss: 0.2853 - accuracy: 0.8803 - val_loss: 0.8523 - val_accuracy: 0.7599\n",
      "Epoch 38/50\n",
      "1512/1512 [==============================] - 1s 862us/step - loss: 0.2680 - accuracy: 0.8776 - val_loss: 1.0043 - val_accuracy: 0.7493\n",
      "Epoch 39/50\n",
      "1512/1512 [==============================] - 1s 879us/step - loss: 0.2869 - accuracy: 0.8783 - val_loss: 1.0092 - val_accuracy: 0.7652\n",
      "Epoch 40/50\n",
      "1512/1512 [==============================] - 1s 879us/step - loss: 0.2669 - accuracy: 0.8876 - val_loss: 0.9381 - val_accuracy: 0.7573\n",
      "Epoch 41/50\n",
      "1512/1512 [==============================] - 1s 862us/step - loss: 0.2607 - accuracy: 0.8869 - val_loss: 1.0596 - val_accuracy: 0.7625\n",
      "Epoch 42/50\n",
      "1512/1512 [==============================] - 1s 863us/step - loss: 0.2873 - accuracy: 0.8849 - val_loss: 0.7835 - val_accuracy: 0.7467\n",
      "Epoch 43/50\n",
      "1512/1512 [==============================] - 1s 867us/step - loss: 0.2571 - accuracy: 0.8816 - val_loss: 1.2374 - val_accuracy: 0.7573\n",
      "Epoch 44/50\n",
      "1512/1512 [==============================] - 1s 865us/step - loss: 0.2609 - accuracy: 0.8942 - val_loss: 1.2917 - val_accuracy: 0.7573\n",
      "Epoch 45/50\n",
      "1512/1512 [==============================] - 1s 871us/step - loss: 0.2538 - accuracy: 0.8902 - val_loss: 1.2789 - val_accuracy: 0.7441\n",
      "Epoch 46/50\n",
      "1512/1512 [==============================] - 1s 874us/step - loss: 0.2731 - accuracy: 0.8889 - val_loss: 1.2015 - val_accuracy: 0.7573\n",
      "Epoch 47/50\n",
      "1512/1512 [==============================] - 1s 864us/step - loss: 0.2571 - accuracy: 0.8968 - val_loss: 1.0560 - val_accuracy: 0.7493\n",
      "Epoch 48/50\n",
      "1512/1512 [==============================] - 1s 864us/step - loss: 0.2601 - accuracy: 0.8948 - val_loss: 1.2017 - val_accuracy: 0.7652\n",
      "Epoch 49/50\n",
      "1512/1512 [==============================] - 1s 868us/step - loss: 0.2541 - accuracy: 0.8836 - val_loss: 1.2234 - val_accuracy: 0.7652\n",
      "Epoch 50/50\n",
      "1512/1512 [==============================] - 1s 869us/step - loss: 0.2587 - accuracy: 0.8922 - val_loss: 1.0092 - val_accuracy: 0.7678\n"
     ]
    },
    {
     "data": {
      "text/plain": [
       "<tensorflow.python.keras.callbacks.History at 0x160095fd0>"
      ]
     },
     "execution_count": 52,
     "metadata": {},
     "output_type": "execute_result"
    }
   ],
   "source": [
    "model.compile(loss='binary_crossentropy',optimizer='adam',\n",
    "              metrics=['accuracy'])\n",
    "\n",
    "model.fit(X_train_sc, y_train_sc.values.ravel(),epochs=50, batch_size=1, verbose=1,\n",
    "         validation_data=(X_test_sc, y_test_one_hot), callbacks=[callback])"
   ]
  },
  {
   "cell_type": "code",
   "execution_count": 77,
   "metadata": {
    "ExecuteTime": {
     "end_time": "2020-10-10T17:31:51.348957Z",
     "start_time": "2020-10-10T17:31:51.345223Z"
    }
   },
   "outputs": [
    {
     "data": {
      "text/plain": [
       "<tensorflow.python.keras.callbacks.History at 0x17feeecc0>"
      ]
     },
     "execution_count": 77,
     "metadata": {},
     "output_type": "execute_result"
    }
   ],
   "source": [
    "model.history"
   ]
  },
  {
   "cell_type": "code",
   "execution_count": 53,
   "metadata": {
    "ExecuteTime": {
     "end_time": "2020-10-11T07:12:09.631292Z",
     "start_time": "2020-10-11T07:12:09.525006Z"
    },
    "collapsed": true
   },
   "outputs": [
    {
     "name": "stdout",
     "output_type": "stream",
     "text": [
      "WARNING:tensorflow:From <ipython-input-53-551c081931c3>:1: Sequential.predict_classes (from tensorflow.python.keras.engine.sequential) is deprecated and will be removed after 2021-01-01.\n",
      "Instructions for updating:\n",
      "Please use instead:* `np.argmax(model.predict(x), axis=-1)`,   if your model does multi-class classification   (e.g. if it uses a `softmax` last-layer activation).* `(model.predict(x) > 0.5).astype(\"int32\")`,   if your model does binary classification   (e.g. if it uses a `sigmoid` last-layer activation).\n"
     ]
    }
   ],
   "source": [
    "y_pred = model.predict_classes(X_test_sc)"
   ]
  },
  {
   "cell_type": "code",
   "execution_count": 54,
   "metadata": {
    "ExecuteTime": {
     "end_time": "2020-10-11T07:12:11.888251Z",
     "start_time": "2020-10-11T07:12:11.882845Z"
    }
   },
   "outputs": [
    {
     "name": "stdout",
     "output_type": "stream",
     "text": [
      "0.7678100263852242\n"
     ]
    }
   ],
   "source": [
    "print(accuracy_score(y_test_one_hot, y_pred))"
   ]
  },
  {
   "cell_type": "code",
   "execution_count": 55,
   "metadata": {
    "ExecuteTime": {
     "end_time": "2020-10-11T07:12:13.067188Z",
     "start_time": "2020-10-11T07:12:13.058997Z"
    }
   },
   "outputs": [
    {
     "name": "stdout",
     "output_type": "stream",
     "text": [
      "0.7678100263852242\n",
      "              precision    recall  f1-score   support\n",
      "\n",
      "           0       0.78      0.81      0.79       209\n",
      "           1       0.76      0.71      0.73       170\n",
      "\n",
      "    accuracy                           0.77       379\n",
      "   macro avg       0.77      0.76      0.76       379\n",
      "weighted avg       0.77      0.77      0.77       379\n",
      "\n"
     ]
    }
   ],
   "source": [
    "print(accuracy_score(y_test_one_hot, y_pred))\n",
    "print(classification_report(y_test_one_hot,y_pred))"
   ]
  },
  {
   "cell_type": "code",
   "execution_count": null,
   "metadata": {},
   "outputs": [],
   "source": []
  },
  {
   "cell_type": "markdown",
   "metadata": {},
   "source": [
    "# Summary pointers"
   ]
  },
  {
   "cell_type": "markdown",
   "metadata": {},
   "source": [
    "Average speaking time label wise"
   ]
  },
  {
   "cell_type": "code",
   "execution_count": null,
   "metadata": {
    "ExecuteTime": {
     "end_time": "2020-10-11T05:36:05.283275Z",
     "start_time": "2020-10-11T04:52:02.716Z"
    }
   },
   "outputs": [],
   "source": [
    "stats = annotated_df.groupby('label', as_index = False)['delta'].sum().sort_values('delta', ascending = False)\n",
    "stats['pct'] = 100*stats['delta']/stats['delta'].sum()\n",
    "print(stats)"
   ]
  },
  {
   "cell_type": "markdown",
   "metadata": {},
   "source": [
    "Longest streak label wise"
   ]
  },
  {
   "cell_type": "code",
   "execution_count": null,
   "metadata": {
    "ExecuteTime": {
     "end_time": "2020-10-11T05:36:05.284536Z",
     "start_time": "2020-10-11T04:52:04.260Z"
    },
    "scrolled": true
   },
   "outputs": [],
   "source": [
    "longest_streak = annotated_df.groupby('label', as_index = False)['delta'].max().sort_values('delta', ascending = False)\n",
    "print(longest_streak)\n",
    "\n",
    "# only person to have 2 min streak is arnab \n",
    "# Get 6 seconds of silence "
   ]
  }
 ],
 "metadata": {
  "kernelspec": {
   "display_name": "Python 3",
   "language": "python",
   "name": "python3"
  },
  "language_info": {
   "codemirror_mode": {
    "name": "ipython",
    "version": 3
   },
   "file_extension": ".py",
   "mimetype": "text/x-python",
   "name": "python",
   "nbconvert_exporter": "python",
   "pygments_lexer": "ipython3",
   "version": "3.7.3"
  },
  "toc": {
   "base_numbering": 1,
   "nav_menu": {},
   "number_sections": true,
   "sideBar": true,
   "skip_h1_title": false,
   "title_cell": "Table of Contents",
   "title_sidebar": "Contents",
   "toc_cell": false,
   "toc_position": {
    "height": "calc(100% - 180px)",
    "left": "10px",
    "top": "150px",
    "width": "288px"
   },
   "toc_section_display": true,
   "toc_window_display": true
  },
  "toc-autonumbering": true
 },
 "nbformat": 4,
 "nbformat_minor": 4
}
